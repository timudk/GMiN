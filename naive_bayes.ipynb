{
 "cells": [
  {
   "cell_type": "markdown",
   "metadata": {},
   "source": [
    "### Probabilistic model\n",
    "Naive Bayes models the conditional probability of classes $C$, given an instance represented by a feature vector $x=(x_1, \\dots, x_n)$, as \n",
    "\\begin{align}\n",
    "p(C_k \\mid x) = \\frac{p(x \\mid C) p(C)}{p(x)}.\n",
    "\\end{align}\n",
    "The most important assumption of the Naive Bayes model is that it assumes that all features are mutually independent conditional on the category $C$, e.g., \n",
    "\\begin{align}\n",
    "p(x_i \\mid x_1, \\dots, x_{i-1}, x_{i+1}, \\dots, x_n, C) = p(x_i \\mid C).\n",
    "\\end{align}"
   ]
  },
  {
   "cell_type": "markdown",
   "metadata": {},
   "source": [
    "### Naive Bayes classifier\n",
    "The Naive Bayes classifier is based on the MAP (maximum a posteriori) estimate of the conditional probability $p(C, x)$, i.e., given a feature vector $x$, we predict it being of the class\n",
    "\\begin{align}\n",
    "\\hat{y} = \\text{argmax}_{k \\in [K]} p(C) \\prod_{i=1}^n p(x_i \\mid C),\n",
    "\\end{align}\n",
    "or equivalently (for computational reasons)\n",
    "\\begin{align}\n",
    "\\hat{y} = \\text{argmax}_{k \\in [K]} \\left[ \\log \\left( p(C) \\right) + \\sum_{i=1}^n \\log \\left( p(x_i \\mid C\\right) \\right].\n",
    "\\end{align}\n",
    "For simplicity we assume here that $p(C=k) = c_k$ is constant. "
   ]
  },
  {
   "cell_type": "markdown",
   "metadata": {},
   "source": [
    "#### Modeling  the conditional probabilities\n",
    "One can choose any model for the conditional probabilities $p(x_i \\mid C)$, e.g., Gaussian, Bernoulli, multinomial, etc. Note that the Naive Bayes classifier can easily handle mixtures of categorical and real-valued features."
   ]
  },
  {
   "cell_type": "markdown",
   "metadata": {},
   "source": [
    "### Maximum likelihood training\n",
    "Given a dataset $\\left\\{\\left(X^{(j)}, Y^{(j)}\\right)\\right\\}_{j \\in [m]}$, we can train the parameters $\\{ \\theta_p \\}_{p \\in [P]}$ of our model (hidden in $p(x_i \\mid C)$) using maximum likelihood, i.e., setting derivatives of the likelihood function $p(\\theta | x, C)$ with respect to the $\\theta_p$'s to zero and solving for the $\\theta_p$'s. Using the independence assumption, we can find closed-form maximum likelihood estimates, e.g., if $p(x_i \\mid C=k)$ is Gaussian, then \n",
    "\\begin{align}\n",
    "\\mu_{ik} &= \\sum_{Y_j = k \\; \\forall j \\in [m]} \\frac{X^{(j)}_i}{n_k}, \\\\\n",
    "\\sigma_{ik} &= \\sum_{Y_j = k \\; \\forall j \\in [m]} \\frac{(X^{(j)}_i - \\mu_{ik})^2}{n_k},\n",
    "\\end{align}\n",
    "where $n_k$ is the amount of samples with class $k$ in the dataset."
   ]
  },
  {
   "cell_type": "markdown",
   "metadata": {},
   "source": [
    "### Sampling\n",
    "Due to the independence assumption, sampling examples $\\left(\\hat{x}, \\hat{C}\\right) \\sim p(x, C)$ is fairly easy. We first set $p(C=k) = n_k / m$ and sample $\\hat{C} \\sim p(C)$. Afterwards, we can sample the features $\\hat{x}_i \\sim p\\left(x_i \\mid C = \\hat{C}\\right)$. Sampling methods for easy probability distributions are implemented in NumPy."
   ]
  },
  {
   "cell_type": "code",
   "execution_count": 1,
   "metadata": {},
   "outputs": [],
   "source": [
    "import numpy as np"
   ]
  },
  {
   "cell_type": "code",
   "execution_count": 2,
   "metadata": {},
   "outputs": [],
   "source": [
    "class NaiveBayes:\n",
    "    def __init__(self, class_prior, features, n_classes):\n",
    "        self.class_prior = class_prior\n",
    "        self.features = features\n",
    "        self.n_classes = n_classes\n",
    "        \n",
    "        self._init_weights()\n",
    "        \n",
    "    def _init_weights(self):\n",
    "        self.weights = []\n",
    "        \n",
    "        for i, feature in enumerate(self.features):\n",
    "            if feature == 'gaussian':\n",
    "                self.weights.append((self._random_normal(), self._random_normal()))\n",
    "            \n",
    "            elif feature == 'bernoulli':\n",
    "                self.weights.append((self._random_uniform()))\n",
    "     \n",
    "    def _random_normal(self, loc_in=0.0, scale_in=1.0, size_in=None):\n",
    "        if size_in is None:\n",
    "            size_in = self.n_classes\n",
    "        \n",
    "        return np.random.normal(loc=loc_in, scale=scale_in, size=size_in)\n",
    "    \n",
    "    def _random_uniform(self, low_in=0.0, high_in=1.0, size_in=None):\n",
    "        if size_in is None:\n",
    "            size_in = self.n_classes\n",
    "        \n",
    "        return np.random.uniform(low=low_in, high=high_in, size=size_in)\n",
    "    \n",
    "    def _random_bernoulli(p_in, n_in=1, size_in=1):\n",
    "        return np.random.multionimal(n=n_in, pvals=p_in, size=size_in)\n",
    "        \n",
    "    def _conditional_log_probability(self, feature, class_index, feature_index):\n",
    "        if self.features[feature_index] == 'gaussian':\n",
    "            return - (1/2)*np.log(2*np.pi*self.weights[feature_index][1][class_index]**2) \\\n",
    "                   - (feature-self.weights[feature_index][0][class_index])**2 \\\n",
    "                   / (2*self.weights[feature_index][1][class_index]**2)\n",
    "        \n",
    "        elif self.features[feature_index] == 'bernoulli':\n",
    "            if feature == 0:\n",
    "                return np.log(1-self.weights[feature_index][class_index])\n",
    "            else:\n",
    "                return np.log(self.weights[feature_index][class_index])\n",
    "    \n",
    "    def log_likelihood(self, X, Y):\n",
    "        log_likelihood = 0.0\n",
    "        \n",
    "        for x, y in zip(X, Y):\n",
    "            sum_of_logs = 0.0\n",
    "            for j, _ in enumerate(self.features):\n",
    "                sum_of_logs += np.log(self.class_prior[y]) + self._conditional_log_probability(x[j], y, j)\n",
    "                \n",
    "            log_likelihood += sum_of_logs\n",
    "            \n",
    "        return log_likelihood\n",
    "    \n",
    "    def _gaussian_maximum_likelihood_fit(self, feature_number, X, Y):\n",
    "        means = np.zeros((self.n_classes,))\n",
    "        counts = np.zeros((self.n_classes,))\n",
    "        \n",
    "        for x, y in zip(X, Y):\n",
    "            means[y] += x\n",
    "            counts[y] += 1\n",
    "                \n",
    "        for i in range(self.n_classes):\n",
    "             means[i] /= counts[i]\n",
    "                \n",
    "        variances = np.zeros((self.n_classes,))\n",
    "        \n",
    "        for x, y in zip(X, Y):\n",
    "            variances[y] += (x - means[y])**2 / counts[y]\n",
    "                \n",
    "        for i in range(self.n_classes):\n",
    "            self.weights[feature_number][0][i] = means[i]\n",
    "            self.weights[feature_number][1][i] = np.sqrt(variances[i])\n",
    "            \n",
    "    def _bernoulli_maximum_likelihood_fit(self, feature_number, X, Y):\n",
    "        means = np.zeros((self.n_classes,))\n",
    "        counts = np.zeros((self.n_classes,))\n",
    "        \n",
    "        for x, y in zip(X, Y):\n",
    "            means[y] += x\n",
    "            counts[y] += 1\n",
    "                \n",
    "        for i in range(self.n_classes):\n",
    "             means[i] /= counts[i]\n",
    "                \n",
    "        for i in range(self.n_classes):\n",
    "            self.weights[feature_number][i] = means[i]\n",
    "                \n",
    "    def maximum_likelihood_fit(self, X, Y):\n",
    "        for j, feature in enumerate(self.features):\n",
    "            if feature == 'gaussian':\n",
    "                self._gaussian_maximum_likelihood_fit(j, X[:, j], Y)\n",
    "            elif feature == 'bernoulli':\n",
    "                self._bernoulli_maximum_likelihood_fit(j, X[:, j], Y)\n",
    "                \n",
    "    def predictions(self, X):\n",
    "        predictions = []\n",
    "        \n",
    "        for x in X:\n",
    "            \n",
    "            class_predictions = []\n",
    "            for i in range(self.n_classes):\n",
    "                \n",
    "                class_predictions.append(self.log_likelihood([x], [i]))\n",
    "                \n",
    "            predictions.append(class_predictions)\n",
    "            \n",
    "        return predictions\n",
    "    \n",
    "    def sampling(self, n_samples):\n",
    "        samples = np.empty((n_samples, len(self.features) + 1))\n",
    "        for i in range(n_samples):\n",
    "            features = []\n",
    "            ### sample a class\n",
    "            sampled_class = np.argwhere(np.random.multinomial(n=1, pvals=self.class_prior) == 1)\n",
    "            samples[i, -1] = sampled_class\n",
    "            \n",
    "            for j, feature in enumerate(self.features):\n",
    "                if feature == 'gaussian':\n",
    "                    samples[i, j] = self._random_normal(loc_in = self.weights[j][0][sampled_class][0],\n",
    "                                                        scale_in = self.weights[j][1][sampled_class][0],\n",
    "                                                        size_in = 1)\n",
    "                elif feature == 'bernoulli':\n",
    "                    samples[i, j] = self._random_bernoulli(self.weights[j][samples_class][0])\n",
    "                \n",
    "        return samples"
   ]
  },
  {
   "cell_type": "markdown",
   "metadata": {},
   "source": [
    "We will now fit a Naive Bayes classifier Iris flower data set and afterwards try to sample points \n",
    "from our generative model."
   ]
  },
  {
   "cell_type": "code",
   "execution_count": 3,
   "metadata": {
    "scrolled": true
   },
   "outputs": [
    {
     "name": "stdout",
     "output_type": "stream",
     "text": [
      "Log-likelihood before fitting (random weights): -1584.5829832421746\n",
      "Log-likelihood after fitting: -627.6014130704741\n"
     ]
    }
   ],
   "source": [
    "from sklearn.datasets import load_iris\n",
    "from sklearn.utils import shuffle\n",
    "from sklearn import preprocessing\n",
    "from scipy.special import softmax\n",
    "import matplotlib.pyplot as plt\n",
    "%matplotlib inline\n",
    "\n",
    "X, Y = load_iris(return_X_y=True)\n",
    "X = preprocessing.scale(X) \n",
    "X, Y = shuffle(X, Y)\n",
    "\n",
    "X_train = X[:100, :]\n",
    "Y_train = Y[:100]\n",
    "\n",
    "X_test = X[100:, :]\n",
    "Y_test = Y[100:]\n",
    "\n",
    "### Maximum likelihood fitting \n",
    "naive_bayes_iris = NaiveBayes([1/3.]*3, ['gaussian']*4, 3)\n",
    "\n",
    "print('Log-likelihood before fitting (random weights):', naive_bayes_iris.log_likelihood(X_train, Y_train))\n",
    "\n",
    "naive_bayes_iris.maximum_likelihood_fit(X_train, Y_train)\n",
    "\n",
    "print('Log-likelihood after fitting:', naive_bayes_iris.log_likelihood(X_train, Y_train))"
   ]
  },
  {
   "cell_type": "code",
   "execution_count": 4,
   "metadata": {},
   "outputs": [
    {
     "name": "stdout",
     "output_type": "stream",
     "text": [
      "Accuracy on test set: 0.96\n"
     ]
    }
   ],
   "source": [
    "predictions = naive_bayes_iris.predictions(X_test)\n",
    "print('Accuracy on test set:', np.sum(np.argmax(predictions, axis=1) == Y_test) / 50)"
   ]
  },
  {
   "cell_type": "code",
   "execution_count": 5,
   "metadata": {},
   "outputs": [],
   "source": [
    "### Sampling points \n",
    "samples = naive_bayes_iris.sampling(50)"
   ]
  },
  {
   "cell_type": "markdown",
   "metadata": {},
   "source": [
    "In the next plots we compare the data distribution to the sampling distribution. We can clearly see that the features (conditioned on the class) of the data distribution are correlated, and therefore the naive Bayes model might not be perfect for this case. "
   ]
  },
  {
   "cell_type": "code",
   "execution_count": 6,
   "metadata": {},
   "outputs": [
    {
     "data": {
      "text/plain": [
       "<matplotlib.collections.PathCollection at 0x7f028f541a20>"
      ]
     },
     "execution_count": 6,
     "metadata": {},
     "output_type": "execute_result"
    },
    {
     "data": {
      "image/png": "[encoded data removed]",
      "text/plain": [
       "<Figure size 432x288 with 1 Axes>"
      ]
     },
     "metadata": {
      "needs_background": "light"
     },
     "output_type": "display_data"
    }
   ],
   "source": [
    "### Data distribution for feature 1 and 2\n",
    "plt.scatter(X_test[:, 0], X_test[:, 1], c=Y_test)"
   ]
  },
  {
   "cell_type": "code",
   "execution_count": 7,
   "metadata": {},
   "outputs": [
    {
     "data": {
      "text/plain": [
       "<matplotlib.collections.PathCollection at 0x7f028d45e160>"
      ]
     },
     "execution_count": 7,
     "metadata": {},
     "output_type": "execute_result"
    },
    {
     "data": {
      "image/png": "[encoded data removed]",
      "text/plain": [
       "<Figure size 432x288 with 1 Axes>"
      ]
     },
     "metadata": {
      "needs_background": "light"
     },
     "output_type": "display_data"
    }
   ],
   "source": [
    "### Sampling distribution for feature 1 and 2\n",
    "plt.scatter(samples[:, 0], samples[:, 1], c=samples[:, 4])"
   ]
  },
  {
   "cell_type": "code",
   "execution_count": 8,
   "metadata": {},
   "outputs": [
    {
     "data": {
      "text/plain": [
       "<matplotlib.collections.PathCollection at 0x7f028d43f5c0>"
      ]
     },
     "execution_count": 8,
     "metadata": {},
     "output_type": "execute_result"
    },
    {
     "data": {
      "image/png": "[encoded data removed]",
      "text/plain": [
       "<Figure size 432x288 with 1 Axes>"
      ]
     },
     "metadata": {
      "needs_background": "light"
     },
     "output_type": "display_data"
    }
   ],
   "source": [
    "### Data distribution for feature 1 and 3\n",
    "plt.scatter(X_test[:, 0], X_test[:, 2], c=Y_test)"
   ]
  },
  {
   "cell_type": "code",
   "execution_count": 9,
   "metadata": {},
   "outputs": [
    {
     "data": {
      "text/plain": [
       "<matplotlib.collections.PathCollection at 0x7f028d39e2e8>"
      ]
     },
     "execution_count": 9,
     "metadata": {},
     "output_type": "execute_result"
    },
    {
     "data": {
      "image/png": "[encoded data removed]",
      "text/plain": [
       "<Figure size 432x288 with 1 Axes>"
      ]
     },
     "metadata": {
      "needs_background": "light"
     },
     "output_type": "display_data"
    }
   ],
   "source": [
    "### Sampling distribution for feature 1 and 3\n",
    "plt.scatter(samples[:, 0], samples[:, 2], c=samples[:, 4])"
   ]
  }
 ],
 "metadata": {
  "kernelspec": {
   "display_name": "Python 3",
   "language": "python",
   "name": "python3"
  },
  "language_info": {
   "codemirror_mode": {
    "name": "ipython",
    "version": 3
   },
   "file_extension": ".py",
   "mimetype": "text/x-python",
   "name": "python",
   "nbconvert_exporter": "python",
   "pygments_lexer": "ipython3",
   "version": "3.6.8"
  }
 },
 "nbformat": 4,
 "nbformat_minor": 2
}
