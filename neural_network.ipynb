{
 "cells": [
  {
   "cell_type": "code",
   "execution_count": 1,
   "metadata": {},
   "outputs": [],
   "source": [
    "import numpy as np"
   ]
  },
  {
   "cell_type": "code",
   "execution_count": 4,
   "metadata": {},
   "outputs": [],
   "source": [
    "class dense_neural_network():\n",
    "    def __init__(self,\n",
    "                 layers,\n",
    "                 biases,\n",
    "                 activation):\n",
    "        \n",
    "        self.layers = layers\n",
    "        self.n_layers = len(layers)\n",
    "        \n",
    "        self.biases = biases\n",
    "        self.activation = activation\n",
    "        \n",
    "    def forward_mode(x):\n",
    "        for i in range(self.n_layers):\n",
    "            x = self.layers[i] @ x\n",
    "            \n",
    "            if i < n_layers - 1:\n",
    "                x = self.activation(x)\n",
    "                \n",
    "        return x"
   ]
  }
 ],
 "metadata": {
  "kernelspec": {
   "display_name": "Python 3",
   "language": "python",
   "name": "python3"
  },
  "language_info": {
   "codemirror_mode": {
    "name": "ipython",
    "version": 3
   },
   "file_extension": ".py",
   "mimetype": "text/x-python",
   "name": "python",
   "nbconvert_exporter": "python",
   "pygments_lexer": "ipython3",
   "version": "3.6.4"
  }
 },
 "nbformat": 4,
 "nbformat_minor": 2
}
